{
 "cells": [
  {
   "cell_type": "markdown",
   "source": [
    "## Вариант №29, Суханов Макар БПИ-20-01 ##\n",
    "\n",
    "### Исходные данные: ####"
   ],
   "metadata": {
    "collapsed": false
   },
   "id": "fbd9b59dd527bbdf"
  },
  {
   "cell_type": "code",
   "execution_count": 1,
   "outputs": [
    {
     "name": "stdout",
     "output_type": "stream",
     "text": [
      "            X          Y   class\n",
      "0    2.124760   4.983397  Group1\n",
      "1    3.593042   4.173125  Group1\n",
      "2    3.015259   5.364602  Group1\n",
      "3    4.636848   4.506923  Group1\n",
      "4    1.646402   5.815211  Group1\n",
      "5    1.707920   4.994006  Group1\n",
      "6    0.749159   5.212753  Group1\n",
      "7    0.861648   5.243874  Group1\n",
      "8    1.432626   5.691105  Group1\n",
      "9   -0.669917   4.898167  Group1\n",
      "10   3.354725   5.600385  Group1\n",
      "11   3.009829   5.320758  Group1\n",
      "12   2.600294   5.152990  Group1\n",
      "13   2.088029   6.476373  Group1\n",
      "14   2.658746   5.547329  Group1\n",
      "15   3.411988   4.724950  Group1\n",
      "16   2.373630   5.779159  Group1\n",
      "17   2.008601   5.158813  Group1\n",
      "18   1.484046   5.525351  Group1\n",
      "19   3.462802   5.126048  Group1\n",
      "20   6.633963   1.255826  Group2\n",
      "21   8.215297   1.993216  Group2\n",
      "22   7.375426   0.913432  Group2\n",
      "23   7.681202   0.367926  Group2\n",
      "24   8.085625   1.450494  Group2\n",
      "25   7.812156   0.661439  Group2\n",
      "26   8.311589   1.375985  Group2\n",
      "27   7.458962   0.949832  Group2\n",
      "28   7.685530   0.122631  Group2\n",
      "29   7.437903   1.491149  Group2\n",
      "30   7.402204   2.056772  Group2\n",
      "31   8.160091   1.150172  Group2\n",
      "32   8.226743   0.803210  Group2\n",
      "33   8.993287   1.818144  Group2\n",
      "34   8.474234   1.546447  Group2\n",
      "35   8.137061   1.250389  Group2\n",
      "36   8.101015  -0.179318  Group2\n",
      "37   7.730111   1.516421  Group2\n",
      "38   7.642103   1.785169  Group2\n",
      "39   7.134750   1.543862  Group2\n",
      "40  13.291925   9.109272  Group3\n",
      "41  13.195275  11.886939  Group3\n",
      "42  13.409749   9.455537  Group3\n",
      "43  12.627323  10.542347  Group3\n",
      "44  13.352417  10.425366  Group3\n",
      "45  13.189319  10.580469  Group3\n",
      "46  12.226785  11.119772  Group3\n",
      "47  11.458610   9.256236  Group3\n",
      "48  13.493813  10.202809  Group3\n",
      "49  14.016868   7.062714  Group3\n",
      "50  12.547156  10.406553  Group3\n",
      "51  13.745864   9.746460  Group3\n",
      "52  12.839516  11.401569  Group3\n",
      "53  12.066804   9.700908  Group3\n",
      "54  13.471598  11.447956  Group3\n",
      "55  12.675078  10.554501  Group3\n",
      "56  12.983674  10.278778  Group3\n",
      "57  12.593808  12.034001  Group3\n",
      "58  13.109001  10.156867  Group3\n",
      "59  11.241673  12.582395  Group3\n"
     ]
    }
   ],
   "source": [
    "import numpy as np\n",
    "import pandas as pd\n",
    "data = {\"X\":[ 2.12476003, 3.59304225, 3.01525881, 4.63684781, 1.64640156, 1.70792005,\n",
    "0.74915913, 0.86164757, 1.4326255 ,-0.66991672, 3.35472519, 3.00982864,\n",
    "2.60029427, 2.08802881, 2.65874574, 3.41198804, 2.37362961, 2.00860113,\n",
    "1.48404563, 3.46280213, 6.63396282, 8.21529689, 7.37542611, 7.68120241,\n",
    "8.0856252 , 7.81215581, 8.31158893, 7.45896227, 7.68552979, 7.43790345,\n",
    "7.40220367, 8.16009144, 8.22674257, 8.9932873 , 8.4742343 , 8.13706114,\n",
    "8.10101473, 7.73011139, 7.64210272, 7.13475014,13.29192475,13.19527519,\n",
    "13.40974926,12.62732322,13.35241731,13.18931899,12.22678513,11.45860992,\n",
    "13.49381347,14.01686761,12.54715647,13.74586357,12.83951626,12.06680403,\n",
    "13.47159805,12.67507831,12.98367391,12.59380782,13.10900137,11.24167289],\n",
    "\"Y\":[ 4.98339709, 4.17312497, 5.36460182, 4.50692341, 5.81521067, 4.99400642,\n",
    "5.21275327, 5.24387431, 5.69110539, 4.89816739, 5.60038513, 5.3207575 ,\n",
    "5.15298958, 6.47637315, 5.54732859, 4.72495041, 5.779159 , 5.15881338,\n",
    "5.52535125, 5.12604843, 1.25582627, 1.99321578, 0.91343199, 0.36792626,\n",
    "1.45049426, 0.66143885, 1.37598474, 0.94983234, 0.12263086, 1.49114935,\n",
    "2.0567719 , 1.15017213, 0.80320996, 1.81814435, 1.54644744, 1.25038885,\n",
    "-0.17931791, 1.51642107, 1.78516941, 1.54386154, 9.10927168,11.88693943,\n",
    "9.45553744,10.5423465 ,10.42536612,10.58046866,11.1197718 , 9.25623568,\n",
    "10.20280941, 7.06271417,10.4065526 , 9.74646029,11.40156886, 9.70090844,\n",
    "11.44795568,10.55450137,10.27877844,12.03400095,10.15686659,12.58239504],\n",
    "\"class\":['Group1', 'Group1', 'Group1', 'Group1', 'Group1', 'Group1', 'Group1',\n",
    "'Group1', 'Group1', 'Group1', 'Group1', 'Group1', 'Group1', 'Group1', 'Group1',\n",
    "'Group1', 'Group1', 'Group1', 'Group1', 'Group1', 'Group2', 'Group2', 'Group2',\n",
    "'Group2', 'Group2', 'Group2', 'Group2', 'Group2', 'Group2', 'Group2', 'Group2',\n",
    "'Group2', 'Group2', 'Group2', 'Group2', 'Group2', 'Group2', 'Group2', 'Group2',\n",
    "'Group2', 'Group3', 'Group3', 'Group3', 'Group3', 'Group3', 'Group3', 'Group3',\n",
    "'Group3', 'Group3', 'Group3', 'Group3', 'Group3', 'Group3', 'Group3', 'Group3',\n",
    "'Group3', 'Group3', 'Group3', 'Group3', 'Group3'] }\n",
    "\n",
    "dataFrame = pd.DataFrame(data)\n",
    "print(dataFrame)"
   ],
   "metadata": {
    "collapsed": false,
    "ExecuteTime": {
     "end_time": "2023-10-25T03:46:39.649537235Z",
     "start_time": "2023-10-25T03:46:39.458955476Z"
    }
   },
   "id": "fa7c92fe9551d240"
  },
  {
   "cell_type": "markdown",
   "source": [
    "###  Выполнить предобработку данных согласно примеру: ###\n",
    "**1. Разделение входных и выходных переменных:**"
   ],
   "metadata": {
    "collapsed": false
   },
   "id": "676bf9fd0767e93"
  },
  {
   "cell_type": "code",
   "execution_count": 2,
   "outputs": [],
   "source": [
    "#создадим набор входных данных\n",
    "X = np.c_[data[\"X\"], data[\"Y\"]]"
   ],
   "metadata": {
    "collapsed": false,
    "ExecuteTime": {
     "end_time": "2023-10-25T03:46:39.656763175Z",
     "start_time": "2023-10-25T03:46:39.650698153Z"
    }
   },
   "id": "79264bd1a858afff"
  },
  {
   "cell_type": "markdown",
   "source": [
    "**2. Нормирование входных данных:**"
   ],
   "metadata": {
    "collapsed": false
   },
   "id": "42e8867c5110485f"
  },
  {
   "cell_type": "code",
   "execution_count": 3,
   "outputs": [],
   "source": [
    "xmin = np.min(X)\n",
    "Xnorm = (X - xmin) / (np.max(X) - xmin)"
   ],
   "metadata": {
    "collapsed": false,
    "ExecuteTime": {
     "end_time": "2023-10-25T03:46:39.664275195Z",
     "start_time": "2023-10-25T03:46:39.654108983Z"
    }
   },
   "id": "71dfa1dde7b3280c"
  },
  {
   "cell_type": "markdown",
   "source": [
    "**3.Кодирование выходных данных:**"
   ],
   "metadata": {
    "collapsed": false
   },
   "id": "48a0be6b9fc312e7"
  },
  {
   "cell_type": "code",
   "execution_count": 4,
   "outputs": [
    {
     "name": "stdout",
     "output_type": "stream",
     "text": [
      "Форма тензора X: (60, 2)\n",
      "Форма тензора Y: (60, 3)\n"
     ]
    }
   ],
   "source": [
    "from sklearn.preprocessing import OneHotEncoder\n",
    "ohe = OneHotEncoder(sparse_output = False)\n",
    "Yenc = ohe.fit_transform( np.array(data[\"class\"]).reshape(-1,1) )\n",
    "\n",
    "#проверим размерность входных и выходных данных\n",
    "print(f\"Форма тензора X: {Xnorm.shape}\")\n",
    "print(f\"Форма тензора Y: {Yenc.shape}\")"
   ],
   "metadata": {
    "collapsed": false,
    "ExecuteTime": {
     "end_time": "2023-10-25T03:46:39.914324334Z",
     "start_time": "2023-10-25T03:46:39.661558234Z"
    }
   },
   "id": "e679164835f1c435"
  },
  {
   "cell_type": "markdown",
   "source": [
    "**4. Разбиение данных на обучающий и тестовый наборы**"
   ],
   "metadata": {
    "collapsed": false
   },
   "id": "dcb2c444475a98a1"
  },
  {
   "cell_type": "code",
   "execution_count": 5,
   "outputs": [
    {
     "name": "stdout",
     "output_type": "stream",
     "text": [
      "Тестовый набор:\n",
      "Форма тензора Xtest: (15, 2)\n",
      "Форма тензора Ytest: (15, 3)\n",
      "Обучающий набор:\n",
      "Форма тензора Xtrain: (45, 2)\n",
      "Форма тензора Ytrain: (45, 3)\n"
     ]
    }
   ],
   "source": [
    "from sklearn.model_selection import train_test_split\n",
    "xTrain, xTest, yTrain, yTest = train_test_split(Xnorm, Yenc, test_size = 0.25)\n",
    "\n",
    "print(\"Тестовый набор:\")\n",
    "print(f\"Форма тензора Xtest: {xTest.shape}\")\n",
    "print(f\"Форма тензора Ytest: {yTest.shape}\")\n",
    "\n",
    "print(\"Обучающий набор:\")\n",
    "print(f\"Форма тензора Xtrain: {xTrain.shape}\")\n",
    "print(f\"Форма тензора Ytrain: {yTrain.shape}\")"
   ],
   "metadata": {
    "collapsed": false,
    "ExecuteTime": {
     "end_time": "2023-10-25T03:46:40.049643087Z",
     "start_time": "2023-10-25T03:46:39.913739462Z"
    }
   },
   "id": "94ea63b9dbd38965"
  },
  {
   "cell_type": "markdown",
   "source": [
    "### 2. С помощью Tensorflow или пакета Neuralnet в R построить нейронную сеть и обучить ее на обучающем наборе. ###"
   ],
   "metadata": {
    "collapsed": false
   },
   "id": "3b67300fdd170701"
  },
  {
   "cell_type": "code",
   "execution_count": 6,
   "outputs": [
    {
     "name": "stderr",
     "output_type": "stream",
     "text": [
      "2023-10-25 13:46:40.344842: I tensorflow/tsl/cuda/cudart_stub.cc:28] Could not find cuda drivers on your machine, GPU will not be used.\n",
      "2023-10-25 13:46:40.384722: E tensorflow/compiler/xla/stream_executor/cuda/cuda_dnn.cc:9342] Unable to register cuDNN factory: Attempting to register factory for plugin cuDNN when one has already been registered\n",
      "2023-10-25 13:46:40.384774: E tensorflow/compiler/xla/stream_executor/cuda/cuda_fft.cc:609] Unable to register cuFFT factory: Attempting to register factory for plugin cuFFT when one has already been registered\n",
      "2023-10-25 13:46:40.384812: E tensorflow/compiler/xla/stream_executor/cuda/cuda_blas.cc:1518] Unable to register cuBLAS factory: Attempting to register factory for plugin cuBLAS when one has already been registered\n",
      "2023-10-25 13:46:40.392378: I tensorflow/tsl/cuda/cudart_stub.cc:28] Could not find cuda drivers on your machine, GPU will not be used.\n",
      "2023-10-25 13:46:40.393195: I tensorflow/core/platform/cpu_feature_guard.cc:182] This TensorFlow binary is optimized to use available CPU instructions in performance-critical operations.\n",
      "To enable the following instructions: AVX2 FMA, in other operations, rebuild TensorFlow with the appropriate compiler flags.\n",
      "2023-10-25 13:46:41.048065: W tensorflow/compiler/tf2tensorrt/utils/py_utils.cc:38] TF-TRT Warning: Could not find TensorRT\n"
     ]
    },
    {
     "name": "stdout",
     "output_type": "stream",
     "text": [
      "Model: \"sequential\"\n",
      "_________________________________________________________________\n",
      " Layer (type)                Output Shape              Param #   \n",
      "=================================================================\n",
      " dense (Dense)               (None, 4)                 12        \n",
      "                                                                 \n",
      " dense_1 (Dense)             (None, 4)                 20        \n",
      "                                                                 \n",
      " dense_2 (Dense)             (None, 3)                 15        \n",
      "                                                                 \n",
      "=================================================================\n",
      "Total params: 47 (188.00 Byte)\n",
      "Trainable params: 47 (188.00 Byte)\n",
      "Non-trainable params: 0 (0.00 Byte)\n",
      "_________________________________________________________________\n"
     ]
    }
   ],
   "source": [
    "from keras.models import Sequential\n",
    "from keras.layers import Dense\n",
    "model = Sequential( [\n",
    "Dense( units = 4, activation = \"relu\", input_shape = (2,) ),\n",
    "Dense( units = 4, activation = \"relu\"),\n",
    "Dense( units = yTrain.shape[1], activation = \"sigmoid\" )\n",
    "] )\n",
    "model.compile( optimizer = \"adam\", loss = \"categorical_crossentropy\", metrics = [\"categorical_accuracy\"] )\n",
    "model.summary()"
   ],
   "metadata": {
    "collapsed": false,
    "ExecuteTime": {
     "end_time": "2023-10-25T03:46:41.562050514Z",
     "start_time": "2023-10-25T03:46:40.051275204Z"
    }
   },
   "id": "78260b197e42ebed"
  },
  {
   "cell_type": "markdown",
   "source": [
    "### Обучим нейронную сеть ###"
   ],
   "metadata": {
    "collapsed": false
   },
   "id": "881a15fbb7403d09"
  },
  {
   "cell_type": "code",
   "execution_count": 7,
   "outputs": [
    {
     "name": "stdout",
     "output_type": "stream",
     "text": [
      "Epoch 1/100\n",
      "5/5 [==============================] - 0s 2ms/step - loss: 1.1028 - categorical_accuracy: 0.0889\n",
      "Epoch 2/100\n",
      "5/5 [==============================] - 0s 1ms/step - loss: 1.0992 - categorical_accuracy: 0.0889\n",
      "Epoch 3/100\n",
      "5/5 [==============================] - 0s 1ms/step - loss: 1.0957 - categorical_accuracy: 0.0889\n",
      "Epoch 4/100\n",
      "5/5 [==============================] - 0s 897us/step - loss: 1.0923 - categorical_accuracy: 0.0889\n",
      "Epoch 5/100\n",
      "5/5 [==============================] - 0s 839us/step - loss: 1.0891 - categorical_accuracy: 0.3556\n",
      "Epoch 6/100\n",
      "5/5 [==============================] - 0s 1ms/step - loss: 1.0860 - categorical_accuracy: 0.3556\n",
      "Epoch 7/100\n",
      "5/5 [==============================] - 0s 981us/step - loss: 1.0831 - categorical_accuracy: 0.3556\n",
      "Epoch 8/100\n",
      "5/5 [==============================] - 0s 887us/step - loss: 1.0803 - categorical_accuracy: 0.3556\n",
      "Epoch 9/100\n",
      "5/5 [==============================] - 0s 1ms/step - loss: 1.0775 - categorical_accuracy: 0.3556\n",
      "Epoch 10/100\n",
      "5/5 [==============================] - 0s 1ms/step - loss: 1.0750 - categorical_accuracy: 0.3556\n",
      "Epoch 11/100\n",
      "5/5 [==============================] - 0s 995us/step - loss: 1.0725 - categorical_accuracy: 0.3556\n",
      "Epoch 12/100\n",
      "5/5 [==============================] - 0s 1ms/step - loss: 1.0705 - categorical_accuracy: 0.3556\n",
      "Epoch 13/100\n",
      "5/5 [==============================] - 0s 1ms/step - loss: 1.0688 - categorical_accuracy: 0.3556\n",
      "Epoch 14/100\n",
      "5/5 [==============================] - 0s 910us/step - loss: 1.0675 - categorical_accuracy: 0.3556\n",
      "Epoch 15/100\n",
      "5/5 [==============================] - 0s 881us/step - loss: 1.0659 - categorical_accuracy: 0.3556\n",
      "Epoch 16/100\n",
      "5/5 [==============================] - 0s 840us/step - loss: 1.0642 - categorical_accuracy: 0.3556\n",
      "Epoch 17/100\n",
      "5/5 [==============================] - 0s 864us/step - loss: 1.0624 - categorical_accuracy: 0.3556\n",
      "Epoch 18/100\n",
      "5/5 [==============================] - 0s 858us/step - loss: 1.0603 - categorical_accuracy: 0.3556\n",
      "Epoch 19/100\n",
      "5/5 [==============================] - 0s 865us/step - loss: 1.0580 - categorical_accuracy: 0.3556\n",
      "Epoch 20/100\n",
      "5/5 [==============================] - 0s 836us/step - loss: 1.0551 - categorical_accuracy: 0.3556\n",
      "Epoch 21/100\n",
      "5/5 [==============================] - 0s 823us/step - loss: 1.0529 - categorical_accuracy: 0.3556\n",
      "Epoch 22/100\n",
      "5/5 [==============================] - 0s 854us/step - loss: 1.0500 - categorical_accuracy: 0.3556\n",
      "Epoch 23/100\n",
      "5/5 [==============================] - 0s 847us/step - loss: 1.0476 - categorical_accuracy: 0.3556\n",
      "Epoch 24/100\n",
      "5/5 [==============================] - 0s 818us/step - loss: 1.0449 - categorical_accuracy: 0.3556\n",
      "Epoch 25/100\n",
      "5/5 [==============================] - 0s 821us/step - loss: 1.0423 - categorical_accuracy: 0.3556\n",
      "Epoch 26/100\n",
      "5/5 [==============================] - 0s 980us/step - loss: 1.0391 - categorical_accuracy: 0.3556\n",
      "Epoch 27/100\n",
      "5/5 [==============================] - 0s 1ms/step - loss: 1.0363 - categorical_accuracy: 0.3556\n",
      "Epoch 28/100\n",
      "5/5 [==============================] - 0s 922us/step - loss: 1.0330 - categorical_accuracy: 0.3556\n",
      "Epoch 29/100\n",
      "5/5 [==============================] - 0s 803us/step - loss: 1.0301 - categorical_accuracy: 0.3556\n",
      "Epoch 30/100\n",
      "5/5 [==============================] - 0s 804us/step - loss: 1.0269 - categorical_accuracy: 0.3556\n",
      "Epoch 31/100\n",
      "5/5 [==============================] - 0s 855us/step - loss: 1.0237 - categorical_accuracy: 0.3556\n",
      "Epoch 32/100\n",
      "5/5 [==============================] - 0s 882us/step - loss: 1.0207 - categorical_accuracy: 0.3556\n",
      "Epoch 33/100\n",
      "5/5 [==============================] - 0s 1ms/step - loss: 1.0174 - categorical_accuracy: 0.3556\n",
      "Epoch 34/100\n",
      "5/5 [==============================] - 0s 1ms/step - loss: 1.0139 - categorical_accuracy: 0.3556\n",
      "Epoch 35/100\n",
      "5/5 [==============================] - 0s 849us/step - loss: 1.0103 - categorical_accuracy: 0.3556\n",
      "Epoch 36/100\n",
      "5/5 [==============================] - 0s 861us/step - loss: 1.0059 - categorical_accuracy: 0.3778\n",
      "Epoch 37/100\n",
      "5/5 [==============================] - 0s 1000us/step - loss: 1.0001 - categorical_accuracy: 0.3778\n",
      "Epoch 38/100\n",
      "5/5 [==============================] - 0s 849us/step - loss: 0.9930 - categorical_accuracy: 0.4889\n",
      "Epoch 39/100\n",
      "5/5 [==============================] - 0s 796us/step - loss: 0.9854 - categorical_accuracy: 0.5778\n",
      "Epoch 40/100\n",
      "5/5 [==============================] - 0s 928us/step - loss: 0.9782 - categorical_accuracy: 0.6667\n",
      "Epoch 41/100\n",
      "5/5 [==============================] - 0s 917us/step - loss: 0.9713 - categorical_accuracy: 0.6667\n",
      "Epoch 42/100\n",
      "5/5 [==============================] - 0s 905us/step - loss: 0.9655 - categorical_accuracy: 0.6889\n",
      "Epoch 43/100\n",
      "5/5 [==============================] - 0s 805us/step - loss: 0.9608 - categorical_accuracy: 0.6889\n",
      "Epoch 44/100\n",
      "5/5 [==============================] - 0s 874us/step - loss: 0.9562 - categorical_accuracy: 0.6889\n",
      "Epoch 45/100\n",
      "5/5 [==============================] - 0s 847us/step - loss: 0.9518 - categorical_accuracy: 0.6889\n",
      "Epoch 46/100\n",
      "5/5 [==============================] - 0s 842us/step - loss: 0.9471 - categorical_accuracy: 0.6889\n",
      "Epoch 47/100\n",
      "5/5 [==============================] - 0s 914us/step - loss: 0.9426 - categorical_accuracy: 0.7111\n",
      "Epoch 48/100\n",
      "5/5 [==============================] - 0s 882us/step - loss: 0.9382 - categorical_accuracy: 0.7333\n",
      "Epoch 49/100\n",
      "5/5 [==============================] - 0s 883us/step - loss: 0.9338 - categorical_accuracy: 0.7333\n",
      "Epoch 50/100\n",
      "5/5 [==============================] - 0s 871us/step - loss: 0.9297 - categorical_accuracy: 0.7111\n",
      "Epoch 51/100\n",
      "5/5 [==============================] - 0s 827us/step - loss: 0.9249 - categorical_accuracy: 0.7333\n",
      "Epoch 52/100\n",
      "5/5 [==============================] - 0s 998us/step - loss: 0.9205 - categorical_accuracy: 0.7333\n",
      "Epoch 53/100\n",
      "5/5 [==============================] - 0s 1ms/step - loss: 0.9161 - categorical_accuracy: 0.7556\n",
      "Epoch 54/100\n",
      "5/5 [==============================] - 0s 997us/step - loss: 0.9117 - categorical_accuracy: 0.7778\n",
      "Epoch 55/100\n",
      "5/5 [==============================] - 0s 1ms/step - loss: 0.9073 - categorical_accuracy: 0.7778\n",
      "Epoch 56/100\n",
      "5/5 [==============================] - 0s 1ms/step - loss: 0.9032 - categorical_accuracy: 0.7778\n",
      "Epoch 57/100\n",
      "5/5 [==============================] - 0s 1ms/step - loss: 0.8983 - categorical_accuracy: 0.8000\n",
      "Epoch 58/100\n",
      "5/5 [==============================] - 0s 975us/step - loss: 0.8937 - categorical_accuracy: 0.8000\n",
      "Epoch 59/100\n",
      "5/5 [==============================] - 0s 1ms/step - loss: 0.8897 - categorical_accuracy: 0.8000\n",
      "Epoch 60/100\n",
      "5/5 [==============================] - 0s 1ms/step - loss: 0.8848 - categorical_accuracy: 0.8000\n",
      "Epoch 61/100\n",
      "5/5 [==============================] - 0s 995us/step - loss: 0.8800 - categorical_accuracy: 0.8000\n",
      "Epoch 62/100\n",
      "5/5 [==============================] - 0s 944us/step - loss: 0.8752 - categorical_accuracy: 0.8000\n",
      "Epoch 63/100\n",
      "5/5 [==============================] - 0s 1ms/step - loss: 0.8705 - categorical_accuracy: 0.8000\n",
      "Epoch 64/100\n",
      "5/5 [==============================] - 0s 1ms/step - loss: 0.8660 - categorical_accuracy: 0.8222\n",
      "Epoch 65/100\n",
      "5/5 [==============================] - 0s 976us/step - loss: 0.8611 - categorical_accuracy: 0.8222\n",
      "Epoch 66/100\n",
      "5/5 [==============================] - 0s 969us/step - loss: 0.8564 - categorical_accuracy: 0.8222\n",
      "Epoch 67/100\n",
      "5/5 [==============================] - 0s 1ms/step - loss: 0.8519 - categorical_accuracy: 0.8222\n",
      "Epoch 68/100\n",
      "5/5 [==============================] - 0s 962us/step - loss: 0.8469 - categorical_accuracy: 0.8444\n",
      "Epoch 69/100\n",
      "5/5 [==============================] - 0s 1ms/step - loss: 0.8425 - categorical_accuracy: 0.8667\n",
      "Epoch 70/100\n",
      "5/5 [==============================] - 0s 919us/step - loss: 0.8375 - categorical_accuracy: 0.8667\n",
      "Epoch 71/100\n",
      "5/5 [==============================] - 0s 862us/step - loss: 0.8328 - categorical_accuracy: 0.8889\n",
      "Epoch 72/100\n",
      "5/5 [==============================] - 0s 974us/step - loss: 0.8281 - categorical_accuracy: 0.8889\n",
      "Epoch 73/100\n",
      "5/5 [==============================] - 0s 924us/step - loss: 0.8233 - categorical_accuracy: 0.8889\n",
      "Epoch 74/100\n",
      "5/5 [==============================] - 0s 930us/step - loss: 0.8184 - categorical_accuracy: 0.8889\n",
      "Epoch 75/100\n",
      "5/5 [==============================] - 0s 1ms/step - loss: 0.8140 - categorical_accuracy: 0.8889\n",
      "Epoch 76/100\n",
      "5/5 [==============================] - 0s 799us/step - loss: 0.8086 - categorical_accuracy: 0.8889\n",
      "Epoch 77/100\n",
      "5/5 [==============================] - 0s 853us/step - loss: 0.8039 - categorical_accuracy: 0.9333\n",
      "Epoch 78/100\n",
      "5/5 [==============================] - 0s 844us/step - loss: 0.7991 - categorical_accuracy: 0.9333\n",
      "Epoch 79/100\n",
      "5/5 [==============================] - 0s 1ms/step - loss: 0.7943 - categorical_accuracy: 0.9333\n",
      "Epoch 80/100\n",
      "5/5 [==============================] - 0s 1ms/step - loss: 0.7893 - categorical_accuracy: 0.9556\n",
      "Epoch 81/100\n",
      "5/5 [==============================] - 0s 900us/step - loss: 0.7844 - categorical_accuracy: 0.9556\n",
      "Epoch 82/100\n",
      "5/5 [==============================] - 0s 917us/step - loss: 0.7796 - categorical_accuracy: 0.9333\n",
      "Epoch 83/100\n",
      "5/5 [==============================] - 0s 1ms/step - loss: 0.7746 - categorical_accuracy: 0.9333\n",
      "Epoch 84/100\n",
      "5/5 [==============================] - 0s 831us/step - loss: 0.7699 - categorical_accuracy: 0.9333\n",
      "Epoch 85/100\n",
      "5/5 [==============================] - 0s 883us/step - loss: 0.7646 - categorical_accuracy: 0.9333\n",
      "Epoch 86/100\n",
      "5/5 [==============================] - 0s 980us/step - loss: 0.7598 - categorical_accuracy: 0.9556\n",
      "Epoch 87/100\n",
      "5/5 [==============================] - 0s 905us/step - loss: 0.7547 - categorical_accuracy: 0.9556\n",
      "Epoch 88/100\n",
      "5/5 [==============================] - 0s 1ms/step - loss: 0.7498 - categorical_accuracy: 0.9778\n",
      "Epoch 89/100\n",
      "5/5 [==============================] - 0s 1ms/step - loss: 0.7448 - categorical_accuracy: 0.9778\n",
      "Epoch 90/100\n",
      "5/5 [==============================] - 0s 958us/step - loss: 0.7399 - categorical_accuracy: 1.0000\n",
      "Epoch 91/100\n",
      "5/5 [==============================] - 0s 1ms/step - loss: 0.7350 - categorical_accuracy: 1.0000\n",
      "Epoch 92/100\n",
      "5/5 [==============================] - 0s 941us/step - loss: 0.7303 - categorical_accuracy: 1.0000\n",
      "Epoch 93/100\n",
      "5/5 [==============================] - 0s 882us/step - loss: 0.7253 - categorical_accuracy: 1.0000\n",
      "Epoch 94/100\n",
      "5/5 [==============================] - 0s 993us/step - loss: 0.7207 - categorical_accuracy: 1.0000\n",
      "Epoch 95/100\n",
      "5/5 [==============================] - 0s 877us/step - loss: 0.7156 - categorical_accuracy: 1.0000\n",
      "Epoch 96/100\n",
      "5/5 [==============================] - 0s 857us/step - loss: 0.7108 - categorical_accuracy: 1.0000\n",
      "Epoch 97/100\n",
      "5/5 [==============================] - 0s 895us/step - loss: 0.7060 - categorical_accuracy: 1.0000\n",
      "Epoch 98/100\n",
      "5/5 [==============================] - 0s 888us/step - loss: 0.7014 - categorical_accuracy: 1.0000\n",
      "Epoch 99/100\n",
      "5/5 [==============================] - 0s 863us/step - loss: 0.6964 - categorical_accuracy: 1.0000\n",
      "Epoch 100/100\n",
      "5/5 [==============================] - 0s 881us/step - loss: 0.6922 - categorical_accuracy: 1.0000\n"
     ]
    },
    {
     "data": {
      "text/plain": "<Figure size 640x480 with 1 Axes>",
      "image/png": "[encoded data removed]"
     },
     "metadata": {},
     "output_type": "display_data"
    },
    {
     "name": "stdout",
     "output_type": "stream",
     "text": [
      "1/1 [==============================] - 0s 74ms/step - loss: 0.7405 - categorical_accuracy: 0.9333\n"
     ]
    },
    {
     "data": {
      "text/plain": "[0.7404886484146118, 0.9333333373069763]"
     },
     "execution_count": 7,
     "metadata": {},
     "output_type": "execute_result"
    }
   ],
   "source": [
    "hist = model.fit( x = xTrain, y = yTrain, epochs = 100, batch_size = 10 )\n",
    "import matplotlib.pyplot as plt\n",
    "plt.plot(hist.history[\"loss\"], label = \"Loss\")\n",
    "plt.plot(hist.history[\"categorical_accuracy\"], label = \"accuracy\")\n",
    "plt.ylabel(\"Loss/Accuracy\")\n",
    "plt.xlabel(\"Epochs\")\n",
    "plt.legend()\n",
    "plt.show()\n",
    "model.evaluate(xTest, yTest)"
   ],
   "metadata": {
    "collapsed": false,
    "ExecuteTime": {
     "end_time": "2023-10-25T03:46:42.997085019Z",
     "start_time": "2023-10-25T03:46:41.595158349Z"
    }
   },
   "id": "eac6735023116b6"
  },
  {
   "cell_type": "markdown",
   "source": [
    "**Для обучения модели было выбрано кол-во эпох равное 100, так как 80ти эпох не хватало для полной картинры обучения.\n",
    "По результатам обучения, можно увидеть, что продуктивность модели увеличивалась на протяжении всего обучения - тк доля accurancy на 40ой эпохе резко пошла вверх. На 100ой эпохе доля правильно предсказанных значений составила - 100%**"
   ],
   "metadata": {
    "collapsed": false
   },
   "id": "a9788d95e99438ed"
  },
  {
   "cell_type": "markdown",
   "source": [
    "### Оценим работу модели на тестовой выборке: ###"
   ],
   "metadata": {
    "collapsed": false
   },
   "id": "43c72e47fe0886c3"
  },
  {
   "cell_type": "code",
   "execution_count": 8,
   "outputs": [
    {
     "name": "stdout",
     "output_type": "stream",
     "text": [
      "1/1 [==============================] - 0s 52ms/step\n",
      "Распознали как группу Group2 на самом деле: Group2\n",
      "Верно распознано 1 из 15\n",
      "1/1 [==============================] - 0s 14ms/step\n",
      "Распознали как группу Group1 на самом деле: Group1\n",
      "Верно распознано 2 из 15\n",
      "1/1 [==============================] - 0s 14ms/step\n",
      "Распознали как группу Group1 на самом деле: Group1\n",
      "Верно распознано 3 из 15\n",
      "1/1 [==============================] - 0s 13ms/step\n",
      "Распознали как группу Group2 на самом деле: Group2\n",
      "Верно распознано 4 из 15\n",
      "1/1 [==============================] - 0s 14ms/step\n",
      "Распознали как группу Group3 на самом деле: Group3\n",
      "Верно распознано 5 из 15\n",
      "1/1 [==============================] - 0s 15ms/step\n",
      "Распознали как группу Group3 на самом деле: Group3\n",
      "Верно распознано 6 из 15\n",
      "1/1 [==============================] - 0s 16ms/step\n",
      "Распознали как группу Group2 на самом деле: Group2\n",
      "Верно распознано 7 из 15\n",
      "1/1 [==============================] - 0s 15ms/step\n",
      "Распознали как группу Group1 на самом деле: Group1\n",
      "Верно распознано 8 из 15\n",
      "1/1 [==============================] - 0s 17ms/step\n",
      "Распознали как группу Group2 на самом деле: Group2\n",
      "Верно распознано 9 из 15\n",
      "1/1 [==============================] - 0s 17ms/step\n",
      "Распознали как группу Group2 на самом деле: Group2\n",
      "Верно распознано 10 из 15\n",
      "1/1 [==============================] - 0s 15ms/step\n",
      "Распознали как группу Group1 на самом деле: Group1\n",
      "Верно распознано 11 из 15\n",
      "1/1 [==============================] - 0s 15ms/step\n",
      "Распознали как группу Group3 на самом деле: Group3\n",
      "Верно распознано 12 из 15\n",
      "1/1 [==============================] - 0s 14ms/step\n",
      "Распознали как группу Group1 на самом деле: Group1\n",
      "Верно распознано 13 из 15\n",
      "1/1 [==============================] - 0s 14ms/step\n",
      "1/1 [==============================] - 0s 14ms/step\n",
      "Распознали как группу Group3 на самом деле: Group3\n",
      "Верно распознано 14 из 15\n"
     ]
    }
   ],
   "source": [
    "match = 0\n",
    "for i in range(len(xTest)):\n",
    "    x = xTest[i]\n",
    "    y = yTest[i]\n",
    "    #преобразуем вектор к двумерному тензору \n",
    "    yPred = model.predict( x.reshape(1,-1) )\n",
    "    #найдем индекс нейрона с максимальным сигналом\n",
    "    maxLogit = np.argmax(yPred)\n",
    "    #Найдем индекс правильного ответа\n",
    "    yAct = np.argmax(y)\n",
    "    if maxLogit == yAct:\n",
    "        match += 1\n",
    "        print(f\"Распознали как группу {ohe.categories_[0][maxLogit]} на самом деле: {ohe.categories_[0][yAct]}\" )\n",
    "        print(f\"Верно распознано {match} из {len(xTest)}\")"
   ],
   "metadata": {
    "collapsed": false,
    "ExecuteTime": {
     "end_time": "2023-10-25T04:01:09.160703841Z",
     "start_time": "2023-10-25T04:01:08.561979923Z"
    }
   },
   "id": "3336b2812a0156ae"
  },
  {
   "cell_type": "markdown",
   "source": [
    "**Можно увидеть, что при последнем тестировании, модель сделала правильные предсказания для 14 элементов из 15 в тестовом наборе данных. Это хороший показатель точности для модели, и это указывает на то, что она хорошо справляется с задачей на тестовых данных.**"
   ],
   "metadata": {
    "collapsed": false
   },
   "id": "126904cef96456fe"
  },
  {
   "cell_type": "code",
   "execution_count": null,
   "outputs": [],
   "source": [],
   "metadata": {
    "collapsed": false
   },
   "id": "df614bd02abfa142"
  }
 ],
 "metadata": {
  "kernelspec": {
   "display_name": "Python 3",
   "language": "python",
   "name": "python3"
  },
  "language_info": {
   "codemirror_mode": {
    "name": "ipython",
    "version": 2
   },
   "file_extension": ".py",
   "mimetype": "text/x-python",
   "name": "python",
   "nbconvert_exporter": "python",
   "pygments_lexer": "ipython2",
   "version": "2.7.6"
  }
 },
 "nbformat": 4,
 "nbformat_minor": 5
}
